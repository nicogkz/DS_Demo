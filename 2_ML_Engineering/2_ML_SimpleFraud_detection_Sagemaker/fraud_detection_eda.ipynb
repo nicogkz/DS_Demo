{
 "cells": [
  {
   "cell_type": "markdown",
   "id": "df7c412a-d46b-4729-808a-cc16e55c2b50",
   "metadata": {},
   "source": [
    "<H1>fraud_detection_eda</H1>"
   ]
  },
  {
   "cell_type": "markdown",
   "id": "a8b7a3c0-cc3e-458c-87cf-6e58067dd8df",
   "metadata": {},
   "source": [
    "<p>Let's see what we discover and how we can prep our data before creating a model</p>"
   ]
  },
  {
   "cell_type": "code",
   "execution_count": 1,
   "id": "d8d1e5b3-301c-4b74-950b-d8828977a747",
   "metadata": {
    "tags": []
   },
   "outputs": [
    {
     "name": "stdout",
     "output_type": "stream",
     "text": [
      "sagemaker.config INFO - Not applying SDK defaults from location: /etc/xdg/sagemaker/config.yaml\n",
      "sagemaker.config INFO - Not applying SDK defaults from location: /home/ec2-user/.config/sagemaker/config.yaml\n",
      "sagemaker.config INFO - Not applying SDK defaults from location: /etc/xdg/sagemaker/config.yaml\n",
      "sagemaker.config INFO - Not applying SDK defaults from location: /home/ec2-user/.config/sagemaker/config.yaml\n",
      "sagemaker.config INFO - Not applying SDK defaults from location: /etc/xdg/sagemaker/config.yaml\n",
      "sagemaker.config INFO - Not applying SDK defaults from location: /home/ec2-user/.config/sagemaker/config.yaml\n"
     ]
    }
   ],
   "source": [
    "import sagemaker\n",
    "\n",
    "sess = sagemaker.Session()\n",
    "bucket = sess.default_bucket()\n",
    "\n",
    "# Define IAM role\n",
    "import boto3\n",
    "import re\n",
    "from sagemaker import get_execution_role\n",
    "\n",
    "role = get_execution_role()"
   ]
  },
  {
   "cell_type": "code",
   "execution_count": 2,
   "id": "6e11a7ea-6fea-4be1-be89-f875aa5a264b",
   "metadata": {
    "tags": []
   },
   "outputs": [
    {
     "name": "stdout",
     "output_type": "stream",
     "text": [
      "sagemaker.config INFO - Not applying SDK defaults from location: /etc/xdg/sagemaker/config.yaml\n",
      "sagemaker.config INFO - Not applying SDK defaults from location: /home/ec2-user/.config/sagemaker/config.yaml\n"
     ]
    }
   ],
   "source": [
    "region = sagemaker.Session().boto_region_name"
   ]
  },
  {
   "cell_type": "code",
   "execution_count": 3,
   "id": "cfc94915-1032-48c8-b562-ce0178edf7e1",
   "metadata": {
    "tags": []
   },
   "outputs": [
    {
     "name": "stderr",
     "output_type": "stream",
     "text": [
      "Matplotlib is building the font cache; this may take a moment.\n"
     ]
    }
   ],
   "source": [
    "import pandas as pd\n",
    "import numpy as np\n",
    "import matplotlib.pyplot as plt\n",
    "import io\n",
    "import os\n",
    "import sys\n",
    "import time\n",
    "import json"
   ]
  },
  {
   "cell_type": "code",
   "execution_count": 4,
   "id": "cd0b166a-e1fc-49e8-acec-2e1c3a5eacd8",
   "metadata": {
    "tags": []
   },
   "outputs": [],
   "source": [
    "identity = pd.read_csv(\"./datasets/identity.csv\")\n",
    "transaction = pd.read_csv(\"./datasets/transaction.csv\")\n",
    "pd.set_option(\"display.max_columns\", 500)"
   ]
  },
  {
   "cell_type": "code",
   "execution_count": 5,
   "id": "40e31512-a6da-41df-a565-2eb22aca7059",
   "metadata": {
    "tags": []
   },
   "outputs": [
    {
     "data": {
      "text/html": [
       "<div>\n",
       "<style scoped>\n",
       "    .dataframe tbody tr th:only-of-type {\n",
       "        vertical-align: middle;\n",
       "    }\n",
       "\n",
       "    .dataframe tbody tr th {\n",
       "        vertical-align: top;\n",
       "    }\n",
       "\n",
       "    .dataframe thead th {\n",
       "        text-align: right;\n",
       "    }\n",
       "</style>\n",
       "<table border=\"1\" class=\"dataframe\">\n",
       "  <thead>\n",
       "    <tr style=\"text-align: right;\">\n",
       "      <th></th>\n",
       "      <th>TransactionID</th>\n",
       "      <th>IpAddress</th>\n",
       "      <th>PhoneNo</th>\n",
       "      <th>DeviceID</th>\n",
       "    </tr>\n",
       "  </thead>\n",
       "  <tbody>\n",
       "    <tr>\n",
       "      <th>0</th>\n",
       "      <td>f9980c5d-e8bf-4431-9ddf-15b4e7a9d7ff</td>\n",
       "      <td>104.32.122.67</td>\n",
       "      <td>7993004217</td>\n",
       "      <td>657817920030</td>\n",
       "    </tr>\n",
       "    <tr>\n",
       "      <th>1</th>\n",
       "      <td>011955b3-14fa-4342-85f4-3a9c3759b7d7</td>\n",
       "      <td>164.180.250.14</td>\n",
       "      <td>6712423669</td>\n",
       "      <td>8984812524268</td>\n",
       "    </tr>\n",
       "    <tr>\n",
       "      <th>2</th>\n",
       "      <td>a61677ac-a0cb-4113-9409-87bcfe7e6e44</td>\n",
       "      <td>99.31.120.70</td>\n",
       "      <td>+1-353-046-6749x00004</td>\n",
       "      <td>3092060466768</td>\n",
       "    </tr>\n",
       "    <tr>\n",
       "      <th>3</th>\n",
       "      <td>f46e41fc-5d06-4f60-b730-a5d7ecec90f1</td>\n",
       "      <td>10.225.43.49</td>\n",
       "      <td>125-534-6633x1775</td>\n",
       "      <td>2516617099683</td>\n",
       "    </tr>\n",
       "    <tr>\n",
       "      <th>4</th>\n",
       "      <td>4cc7b6f5-9579-4149-80d8-8cb6c807ee6c</td>\n",
       "      <td>218.46.8.47</td>\n",
       "      <td>(374)448-9917</td>\n",
       "      <td>7683358940269</td>\n",
       "    </tr>\n",
       "  </tbody>\n",
       "</table>\n",
       "</div>"
      ],
      "text/plain": [
       "                          TransactionID       IpAddress  \\\n",
       "0  f9980c5d-e8bf-4431-9ddf-15b4e7a9d7ff   104.32.122.67   \n",
       "1  011955b3-14fa-4342-85f4-3a9c3759b7d7  164.180.250.14   \n",
       "2  a61677ac-a0cb-4113-9409-87bcfe7e6e44    99.31.120.70   \n",
       "3  f46e41fc-5d06-4f60-b730-a5d7ecec90f1    10.225.43.49   \n",
       "4  4cc7b6f5-9579-4149-80d8-8cb6c807ee6c     218.46.8.47   \n",
       "\n",
       "                 PhoneNo       DeviceID  \n",
       "0             7993004217   657817920030  \n",
       "1             6712423669  8984812524268  \n",
       "2  +1-353-046-6749x00004  3092060466768  \n",
       "3      125-534-6633x1775  2516617099683  \n",
       "4          (374)448-9917  7683358940269  "
      ]
     },
     "execution_count": 5,
     "metadata": {},
     "output_type": "execute_result"
    }
   ],
   "source": [
    "identity.head()"
   ]
  },
  {
   "cell_type": "code",
   "execution_count": 6,
   "id": "3260ed3c-83cd-4c9c-87be-daf1adcc8135",
   "metadata": {
    "tags": []
   },
   "outputs": [
    {
     "data": {
      "text/html": [
       "<div>\n",
       "<style scoped>\n",
       "    .dataframe tbody tr th:only-of-type {\n",
       "        vertical-align: middle;\n",
       "    }\n",
       "\n",
       "    .dataframe tbody tr th {\n",
       "        vertical-align: top;\n",
       "    }\n",
       "\n",
       "    .dataframe thead th {\n",
       "        text-align: right;\n",
       "    }\n",
       "</style>\n",
       "<table border=\"1\" class=\"dataframe\">\n",
       "  <thead>\n",
       "    <tr style=\"text-align: right;\">\n",
       "      <th></th>\n",
       "      <th>TransactionID</th>\n",
       "      <th>TransactionDT</th>\n",
       "      <th>card_no</th>\n",
       "      <th>card_type</th>\n",
       "      <th>email_domain</th>\n",
       "      <th>ProductCD</th>\n",
       "      <th>TransactionAmt</th>\n",
       "      <th>isFraud</th>\n",
       "    </tr>\n",
       "  </thead>\n",
       "  <tbody>\n",
       "    <tr>\n",
       "      <th>0</th>\n",
       "      <td>4e481ebc-c0a3-4682-92bb-852a51707c3f</td>\n",
       "      <td>2023-01-15 00:00:20</td>\n",
       "      <td>3572146632952415</td>\n",
       "      <td>JCB 16 digit</td>\n",
       "      <td>hotmail.com</td>\n",
       "      <td>45</td>\n",
       "      <td>669</td>\n",
       "      <td>1</td>\n",
       "    </tr>\n",
       "    <tr>\n",
       "      <th>1</th>\n",
       "      <td>6023c48d-1a0b-4639-b2b9-9dd84e5624a3</td>\n",
       "      <td>2023-01-15 00:00:44</td>\n",
       "      <td>5345027347086361</td>\n",
       "      <td>Maestro</td>\n",
       "      <td>mathis.com</td>\n",
       "      <td>Y</td>\n",
       "      <td>2924</td>\n",
       "      <td>0</td>\n",
       "    </tr>\n",
       "    <tr>\n",
       "      <th>2</th>\n",
       "      <td>9b81b063-6d23-485e-9c32-91303a0f96e0</td>\n",
       "      <td>2023-01-15 00:02:18</td>\n",
       "      <td>213121287312208</td>\n",
       "      <td>VISA 16 digit</td>\n",
       "      <td>yahoo.com</td>\n",
       "      <td>L</td>\n",
       "      <td>704</td>\n",
       "      <td>0</td>\n",
       "    </tr>\n",
       "    <tr>\n",
       "      <th>3</th>\n",
       "      <td>773b7155-d33b-4437-a961-8ff6577bf203</td>\n",
       "      <td>2023-01-15 00:03:01</td>\n",
       "      <td>4963405922548475459</td>\n",
       "      <td>Diners Club / Carte Blanche</td>\n",
       "      <td>rodriguez.com</td>\n",
       "      <td>45</td>\n",
       "      <td>6045</td>\n",
       "      <td>1</td>\n",
       "    </tr>\n",
       "    <tr>\n",
       "      <th>4</th>\n",
       "      <td>ac5b8170-be23-494f-aa58-7fe6ad5f2cc0</td>\n",
       "      <td>2023-01-15 00:03:24</td>\n",
       "      <td>3507208774395447</td>\n",
       "      <td>VISA 13 digit</td>\n",
       "      <td>jefferson.com</td>\n",
       "      <td>L</td>\n",
       "      <td>330</td>\n",
       "      <td>0</td>\n",
       "    </tr>\n",
       "  </tbody>\n",
       "</table>\n",
       "</div>"
      ],
      "text/plain": [
       "                          TransactionID        TransactionDT  \\\n",
       "0  4e481ebc-c0a3-4682-92bb-852a51707c3f  2023-01-15 00:00:20   \n",
       "1  6023c48d-1a0b-4639-b2b9-9dd84e5624a3  2023-01-15 00:00:44   \n",
       "2  9b81b063-6d23-485e-9c32-91303a0f96e0  2023-01-15 00:02:18   \n",
       "3  773b7155-d33b-4437-a961-8ff6577bf203  2023-01-15 00:03:01   \n",
       "4  ac5b8170-be23-494f-aa58-7fe6ad5f2cc0  2023-01-15 00:03:24   \n",
       "\n",
       "               card_no                    card_type   email_domain ProductCD  \\\n",
       "0     3572146632952415                 JCB 16 digit    hotmail.com        45   \n",
       "1     5345027347086361                      Maestro     mathis.com         Y   \n",
       "2      213121287312208                VISA 16 digit      yahoo.com         L   \n",
       "3  4963405922548475459  Diners Club / Carte Blanche  rodriguez.com        45   \n",
       "4     3507208774395447                VISA 13 digit  jefferson.com         L   \n",
       "\n",
       "   TransactionAmt  isFraud  \n",
       "0             669        1  \n",
       "1            2924        0  \n",
       "2             704        0  \n",
       "3            6045        1  \n",
       "4             330        0  "
      ]
     },
     "execution_count": 6,
     "metadata": {},
     "output_type": "execute_result"
    }
   ],
   "source": [
    "transaction.head()"
   ]
  },
  {
   "cell_type": "markdown",
   "id": "cfd4fa33-ef9a-4d50-aa8d-ffa95d38367b",
   "metadata": {},
   "source": [
    "<p>Ok. So , in reality, we would have more columns, more data, etc... Let's start from here and then we will complexify in other experiments :)</p>"
   ]
  },
  {
   "cell_type": "code",
   "execution_count": 7,
   "id": "df49fc32-1a3a-4f58-9380-2e53071af231",
   "metadata": {
    "tags": []
   },
   "outputs": [],
   "source": [
    "def plot_percentage_chart(df,column,labels_list):\n",
    "   \n",
    "    col_counts = df[column].value_counts()\n",
    "\n",
    "    # Calculate percentages\n",
    "    total_records = len(df)\n",
    "    col_percentage = col_counts / total_records * 100\n",
    "\n",
    "    # Create a bar plot\n",
    "    plt.figure(figsize=(4, 4))\n",
    "    ax = col_percentage.plot(kind='bar', color=['green', 'orange'])\n",
    "\n",
    "    # Add labels and title\n",
    "    ax.set_xlabel('{} {}'.format(column,labels_list))\n",
    "    ax.set_ylabel('Percentage (%)')\n",
    "    ax.set_title('{} Count Percentage'.format(column))\n",
    "\n",
    "    # Display the percentage on top of the bars\n",
    "    for i, v in enumerate(col_percentage):\n",
    "        ax.text(i, v + 1, f'{v:.2f}%', ha='center', va='bottom')\n",
    "\n",
    "    # Show the plot\n",
    "    plt.xticks(ticks=[0, 1], labels=labels_list, rotation=0)\n",
    "    plt.tight_layout()\n",
    "    plt.show()"
   ]
  },
  {
   "cell_type": "code",
   "execution_count": 8,
   "id": "a878730e-b143-4cbb-9fc9-1aed20c580ec",
   "metadata": {
    "tags": []
   },
   "outputs": [
    {
     "data": {
      "image/png": "[encoded data removed]",
      "text/plain": [
       "<Figure size 400x400 with 1 Axes>"
      ]
     },
     "metadata": {},
     "output_type": "display_data"
    }
   ],
   "source": [
    "plot_percentage_chart(transaction,\"isFraud\",['No Fraud (0)', 'Fraud (1)'])"
   ]
  },
  {
   "cell_type": "code",
   "execution_count": 9,
   "id": "88aaedf3-872c-4fde-be53-0a9e01f4835f",
   "metadata": {
    "tags": []
   },
   "outputs": [
    {
     "data": {
      "image/png": "[encoded data removed]",
      "text/plain": [
       "<Figure size 1000x600 with 1 Axes>"
      ]
     },
     "metadata": {},
     "output_type": "display_data"
    }
   ],
   "source": [
    "def plot_customer_percentage_chart(df,continuous_column, num_bins=10):\n",
    "    \"\"\"\n",
    "    Plot a chart displaying bins of 'amount_requested' and the percentage of customers in each bin.\n",
    "\n",
    "    Parameters:\n",
    "    df (pd.DataFrame): DataFrame containing the data with 'amount_requested' column.\n",
    "    num_bins (int): Number of bins for the histogram. Default is 10.\n",
    "\n",
    "    Returns:\n",
    "    None (displays the chart)\n",
    "    \"\"\"\n",
    "    # Create bins for 'amount_requested'\n",
    "    bins, bin_edges = pd.cut(df[continuous_column], bins=num_bins, retbins=True)\n",
    "\n",
    "    # Calculate percentage of customers in each bin\n",
    "    total_customers = len(df)\n",
    "    customer_percentage = df.groupby(bins).size() / total_customers * 100\n",
    "\n",
    "    # Plot the bar chart\n",
    "    plt.figure(figsize=(10, 6))\n",
    "    ax = customer_percentage.plot(kind='bar', color='blue')\n",
    "\n",
    "    # Add labels and title\n",
    "    plt.xlabel('{} Bins'.format(continuous_column))\n",
    "    plt.ylabel('Percentage of Customers (%)')\n",
    "    plt.title('Percentage of Customers in {} Bins'.format(continuous_column))\n",
    "\n",
    "    # Display the percentage on top of the bars\n",
    "    for i, v in enumerate(customer_percentage):\n",
    "        ax.text(i, v + 1, f'{v:.3f}%', ha='center', va='bottom')\n",
    "\n",
    "    # Set x-axis labels as bin ranges\n",
    "    bin_ranges = [f'{bin_edges[i]:.0f}-{bin_edges[i+1]:.0f}' for i in range(len(bin_edges)-1)]\n",
    "    ax.set_xticks(range(len(bin_ranges)))\n",
    "    ax.set_xticklabels(bin_ranges, rotation=45)\n",
    "\n",
    "    # Show the plot\n",
    "    plt.tight_layout()\n",
    "    plt.show()\n",
    "\n",
    "\n",
    "plot_customer_percentage_chart(transaction,\"TransactionAmt\", num_bins=5)\n"
   ]
  },
  {
   "cell_type": "code",
   "execution_count": 10,
   "id": "2667ce50-4f4c-420f-b919-771c317abcad",
   "metadata": {},
   "outputs": [],
   "source": [
    "bins, bin_edges = pd.cut(transaction[\"TransactionAmt\"], bins=5, retbins=True)"
   ]
  },
  {
   "cell_type": "code",
   "execution_count": 11,
   "id": "f1381d44-5328-4d12-97d9-9d6229659407",
   "metadata": {},
   "outputs": [
    {
     "data": {
      "text/plain": [
       "TransactionAmt\n",
       "(-13.394, 2879.8]     16411\n",
       "(2879.8, 5758.6]       3430\n",
       "(5758.6, 8637.4]        218\n",
       "(8637.4, 11516.2]         8\n",
       "(11516.2, 14395.0]        2\n",
       "Name: isFraud, dtype: int64"
      ]
     },
     "execution_count": 11,
     "metadata": {},
     "output_type": "execute_result"
    }
   ],
   "source": [
    "transaction.groupby(bins)[\"isFraud\"].sum()"
   ]
  },
  {
   "cell_type": "code",
   "execution_count": 12,
   "id": "e0c266bb-74a0-4437-83c6-1c906cbfde52",
   "metadata": {},
   "outputs": [
    {
     "data": {
      "text/plain": [
       "TransactionAmt\n",
       "(-13.394, 2879.8]     0.123666\n",
       "(2879.8, 5758.6]      0.468451\n",
       "(5758.6, 8637.4]      0.521531\n",
       "(8637.4, 11516.2]     0.380952\n",
       "(11516.2, 14395.0]    1.000000\n",
       "dtype: float64"
      ]
     },
     "execution_count": 12,
     "metadata": {},
     "output_type": "execute_result"
    }
   ],
   "source": [
    "transaction.groupby(bins)[\"isFraud\"].sum() / transaction.groupby(bins).size()"
   ]
  },
  {
   "cell_type": "code",
   "execution_count": 13,
   "id": "f1fb44bc-0f79-45a0-84f4-b88f0521ea34",
   "metadata": {
    "tags": []
   },
   "outputs": [
    {
     "data": {
      "image/png": "[encoded data removed]",
      "text/plain": [
       "<Figure size 1000x600 with 1 Axes>"
      ]
     },
     "metadata": {},
     "output_type": "display_data"
    }
   ],
   "source": [
    "def plot_customer_fraud_percentage_chart(df,group_column,numerical_column, num_bins=10):\n",
    "\n",
    "    # Create bins for 'amount_requested'\n",
    "    bins, bin_edges = pd.cut(df[numerical_column], bins=num_bins, retbins=True)\n",
    "\n",
    "    # Calculate percentage of customers and fraud in each bin\n",
    "    total_customers = len(df)\n",
    "    customer_percentage = df.groupby(bins).size() / total_customers * 100\n",
    "    fraud_percentage = (df.groupby(bins)[group_column].sum() / df.groupby(bins)[group_column].size()) * 100\n",
    "\n",
    "    # Plot the stacked bar chart\n",
    "    plt.figure(figsize=(10, 6))\n",
    "    width = 0.4  # Width of the bars\n",
    "    ind = range(len(customer_percentage))\n",
    "\n",
    "    plt.bar(ind, customer_percentage, width, label='Customer %', color='blue')\n",
    "    plt.bar(ind, fraud_percentage, width, label='Fraud %', color='orange', bottom=customer_percentage)\n",
    "\n",
    "    # Add labels and title\n",
    "    plt.xlabel('Amount Requested Bins')\n",
    "    plt.ylabel('Percentage')\n",
    "    plt.title('Percentage of Customers and Fraud in Amount Requested Bins')\n",
    "\n",
    "    # Set x-axis labels as bin ranges\n",
    "    bin_ranges = [f'{bin_edges[i]:.0f}-{bin_edges[i+1]:.0f}' for i in range(len(bin_edges)-1)]\n",
    "    plt.xticks(ind, bin_ranges, rotation=45)\n",
    "\n",
    "    # Show the plot\n",
    "    plt.legend()\n",
    "    plt.tight_layout()\n",
    "    plt.show()\n",
    "\n",
    "\n",
    "plot_customer_fraud_percentage_chart(transaction,\"isFraud\",\"TransactionAmt\", num_bins=5)\n"
   ]
  },
  {
   "cell_type": "code",
   "execution_count": 14,
   "id": "f3dbd9c5-dd71-4024-9bca-097981a1c00d",
   "metadata": {
    "tags": []
   },
   "outputs": [
    {
     "data": {
      "text/html": [
       "<div>\n",
       "<style scoped>\n",
       "    .dataframe tbody tr th:only-of-type {\n",
       "        vertical-align: middle;\n",
       "    }\n",
       "\n",
       "    .dataframe tbody tr th {\n",
       "        vertical-align: top;\n",
       "    }\n",
       "\n",
       "    .dataframe thead th {\n",
       "        text-align: right;\n",
       "    }\n",
       "</style>\n",
       "<table border=\"1\" class=\"dataframe\">\n",
       "  <thead>\n",
       "    <tr style=\"text-align: right;\">\n",
       "      <th></th>\n",
       "      <th>count</th>\n",
       "      <th>mean</th>\n",
       "      <th>std</th>\n",
       "      <th>min</th>\n",
       "      <th>25%</th>\n",
       "      <th>50%</th>\n",
       "      <th>75%</th>\n",
       "      <th>max</th>\n",
       "    </tr>\n",
       "  </thead>\n",
       "  <tbody>\n",
       "    <tr>\n",
       "      <th>card_no</th>\n",
       "      <td>140467.0</td>\n",
       "      <td>3.874164e+17</td>\n",
       "      <td>1.262482e+18</td>\n",
       "      <td>6.040010e+10</td>\n",
       "      <td>1.800094e+14</td>\n",
       "      <td>3.513191e+15</td>\n",
       "      <td>4.622077e+15</td>\n",
       "      <td>4.999793e+18</td>\n",
       "    </tr>\n",
       "    <tr>\n",
       "      <th>TransactionAmt</th>\n",
       "      <td>140467.0</td>\n",
       "      <td>9.977474e+02</td>\n",
       "      <td>9.993402e+02</td>\n",
       "      <td>1.000000e+00</td>\n",
       "      <td>2.860000e+02</td>\n",
       "      <td>6.910000e+02</td>\n",
       "      <td>1.384000e+03</td>\n",
       "      <td>1.439500e+04</td>\n",
       "    </tr>\n",
       "    <tr>\n",
       "      <th>isFraud</th>\n",
       "      <td>140467.0</td>\n",
       "      <td>1.428734e-01</td>\n",
       "      <td>3.499450e-01</td>\n",
       "      <td>0.000000e+00</td>\n",
       "      <td>0.000000e+00</td>\n",
       "      <td>0.000000e+00</td>\n",
       "      <td>0.000000e+00</td>\n",
       "      <td>1.000000e+00</td>\n",
       "    </tr>\n",
       "  </tbody>\n",
       "</table>\n",
       "</div>"
      ],
      "text/plain": [
       "                   count          mean           std           min  \\\n",
       "card_no         140467.0  3.874164e+17  1.262482e+18  6.040010e+10   \n",
       "TransactionAmt  140467.0  9.977474e+02  9.993402e+02  1.000000e+00   \n",
       "isFraud         140467.0  1.428734e-01  3.499450e-01  0.000000e+00   \n",
       "\n",
       "                         25%           50%           75%           max  \n",
       "card_no         1.800094e+14  3.513191e+15  4.622077e+15  4.999793e+18  \n",
       "TransactionAmt  2.860000e+02  6.910000e+02  1.384000e+03  1.439500e+04  \n",
       "isFraud         0.000000e+00  0.000000e+00  0.000000e+00  1.000000e+00  "
      ]
     },
     "execution_count": 14,
     "metadata": {},
     "output_type": "execute_result"
    }
   ],
   "source": [
    "transaction.describe().T"
   ]
  },
  {
   "cell_type": "code",
   "execution_count": 15,
   "id": "cec03d6d-5dc7-45e1-9801-0461ce92a8db",
   "metadata": {
    "tags": []
   },
   "outputs": [
    {
     "data": {
      "text/html": [
       "<div>\n",
       "<style scoped>\n",
       "    .dataframe tbody tr th:only-of-type {\n",
       "        vertical-align: middle;\n",
       "    }\n",
       "\n",
       "    .dataframe tbody tr th {\n",
       "        vertical-align: top;\n",
       "    }\n",
       "\n",
       "    .dataframe thead th {\n",
       "        text-align: right;\n",
       "    }\n",
       "</style>\n",
       "<table border=\"1\" class=\"dataframe\">\n",
       "  <thead>\n",
       "    <tr style=\"text-align: right;\">\n",
       "      <th></th>\n",
       "      <th>TransactionID</th>\n",
       "      <th>TransactionDT</th>\n",
       "      <th>card_no</th>\n",
       "      <th>card_type</th>\n",
       "      <th>email_domain</th>\n",
       "      <th>ProductCD</th>\n",
       "      <th>TransactionAmt</th>\n",
       "      <th>isFraud</th>\n",
       "    </tr>\n",
       "  </thead>\n",
       "  <tbody>\n",
       "    <tr>\n",
       "      <th>0</th>\n",
       "      <td>4e481ebc-c0a3-4682-92bb-852a51707c3f</td>\n",
       "      <td>2023-01-15 00:00:20</td>\n",
       "      <td>3572146632952415</td>\n",
       "      <td>JCB 16 digit</td>\n",
       "      <td>hotmail.com</td>\n",
       "      <td>45</td>\n",
       "      <td>669</td>\n",
       "      <td>1</td>\n",
       "    </tr>\n",
       "    <tr>\n",
       "      <th>1</th>\n",
       "      <td>6023c48d-1a0b-4639-b2b9-9dd84e5624a3</td>\n",
       "      <td>2023-01-15 00:00:44</td>\n",
       "      <td>5345027347086361</td>\n",
       "      <td>Maestro</td>\n",
       "      <td>mathis.com</td>\n",
       "      <td>Y</td>\n",
       "      <td>2924</td>\n",
       "      <td>0</td>\n",
       "    </tr>\n",
       "    <tr>\n",
       "      <th>2</th>\n",
       "      <td>9b81b063-6d23-485e-9c32-91303a0f96e0</td>\n",
       "      <td>2023-01-15 00:02:18</td>\n",
       "      <td>213121287312208</td>\n",
       "      <td>VISA 16 digit</td>\n",
       "      <td>yahoo.com</td>\n",
       "      <td>L</td>\n",
       "      <td>704</td>\n",
       "      <td>0</td>\n",
       "    </tr>\n",
       "    <tr>\n",
       "      <th>3</th>\n",
       "      <td>773b7155-d33b-4437-a961-8ff6577bf203</td>\n",
       "      <td>2023-01-15 00:03:01</td>\n",
       "      <td>4963405922548475459</td>\n",
       "      <td>Diners Club / Carte Blanche</td>\n",
       "      <td>rodriguez.com</td>\n",
       "      <td>45</td>\n",
       "      <td>6045</td>\n",
       "      <td>1</td>\n",
       "    </tr>\n",
       "    <tr>\n",
       "      <th>4</th>\n",
       "      <td>ac5b8170-be23-494f-aa58-7fe6ad5f2cc0</td>\n",
       "      <td>2023-01-15 00:03:24</td>\n",
       "      <td>3507208774395447</td>\n",
       "      <td>VISA 13 digit</td>\n",
       "      <td>jefferson.com</td>\n",
       "      <td>L</td>\n",
       "      <td>330</td>\n",
       "      <td>0</td>\n",
       "    </tr>\n",
       "  </tbody>\n",
       "</table>\n",
       "</div>"
      ],
      "text/plain": [
       "                          TransactionID        TransactionDT  \\\n",
       "0  4e481ebc-c0a3-4682-92bb-852a51707c3f  2023-01-15 00:00:20   \n",
       "1  6023c48d-1a0b-4639-b2b9-9dd84e5624a3  2023-01-15 00:00:44   \n",
       "2  9b81b063-6d23-485e-9c32-91303a0f96e0  2023-01-15 00:02:18   \n",
       "3  773b7155-d33b-4437-a961-8ff6577bf203  2023-01-15 00:03:01   \n",
       "4  ac5b8170-be23-494f-aa58-7fe6ad5f2cc0  2023-01-15 00:03:24   \n",
       "\n",
       "               card_no                    card_type   email_domain ProductCD  \\\n",
       "0     3572146632952415                 JCB 16 digit    hotmail.com        45   \n",
       "1     5345027347086361                      Maestro     mathis.com         Y   \n",
       "2      213121287312208                VISA 16 digit      yahoo.com         L   \n",
       "3  4963405922548475459  Diners Club / Carte Blanche  rodriguez.com        45   \n",
       "4     3507208774395447                VISA 13 digit  jefferson.com         L   \n",
       "\n",
       "   TransactionAmt  isFraud  \n",
       "0             669        1  \n",
       "1            2924        0  \n",
       "2             704        0  \n",
       "3            6045        1  \n",
       "4             330        0  "
      ]
     },
     "execution_count": 15,
     "metadata": {},
     "output_type": "execute_result"
    }
   ],
   "source": [
    "transaction.head()"
   ]
  },
  {
   "cell_type": "code",
   "execution_count": 16,
   "id": "a7bf7787-b6de-4fcc-96da-7d61836851f2",
   "metadata": {
    "tags": []
   },
   "outputs": [],
   "source": [
    "transaction[\"card_no4\"] = transaction[\"card_no\"].apply(lambda x: 'C' + str(x)[-4:])"
   ]
  },
  {
   "cell_type": "code",
   "execution_count": 17,
   "id": "e29078b9-54d7-4b53-889a-a06b89be485e",
   "metadata": {
    "tags": []
   },
   "outputs": [
    {
     "data": {
      "text/html": [
       "<div>\n",
       "<style scoped>\n",
       "    .dataframe tbody tr th:only-of-type {\n",
       "        vertical-align: middle;\n",
       "    }\n",
       "\n",
       "    .dataframe tbody tr th {\n",
       "        vertical-align: top;\n",
       "    }\n",
       "\n",
       "    .dataframe thead th {\n",
       "        text-align: right;\n",
       "    }\n",
       "</style>\n",
       "<table border=\"1\" class=\"dataframe\">\n",
       "  <thead>\n",
       "    <tr style=\"text-align: right;\">\n",
       "      <th></th>\n",
       "      <th>TransactionID</th>\n",
       "      <th>TransactionDT</th>\n",
       "      <th>card_no</th>\n",
       "      <th>card_type</th>\n",
       "      <th>email_domain</th>\n",
       "      <th>ProductCD</th>\n",
       "      <th>TransactionAmt</th>\n",
       "      <th>isFraud</th>\n",
       "      <th>card_no4</th>\n",
       "    </tr>\n",
       "  </thead>\n",
       "  <tbody>\n",
       "    <tr>\n",
       "      <th>0</th>\n",
       "      <td>4e481ebc-c0a3-4682-92bb-852a51707c3f</td>\n",
       "      <td>2023-01-15 00:00:20</td>\n",
       "      <td>3572146632952415</td>\n",
       "      <td>JCB 16 digit</td>\n",
       "      <td>hotmail.com</td>\n",
       "      <td>45</td>\n",
       "      <td>669</td>\n",
       "      <td>1</td>\n",
       "      <td>C2415</td>\n",
       "    </tr>\n",
       "    <tr>\n",
       "      <th>1</th>\n",
       "      <td>6023c48d-1a0b-4639-b2b9-9dd84e5624a3</td>\n",
       "      <td>2023-01-15 00:00:44</td>\n",
       "      <td>5345027347086361</td>\n",
       "      <td>Maestro</td>\n",
       "      <td>mathis.com</td>\n",
       "      <td>Y</td>\n",
       "      <td>2924</td>\n",
       "      <td>0</td>\n",
       "      <td>C6361</td>\n",
       "    </tr>\n",
       "    <tr>\n",
       "      <th>2</th>\n",
       "      <td>9b81b063-6d23-485e-9c32-91303a0f96e0</td>\n",
       "      <td>2023-01-15 00:02:18</td>\n",
       "      <td>213121287312208</td>\n",
       "      <td>VISA 16 digit</td>\n",
       "      <td>yahoo.com</td>\n",
       "      <td>L</td>\n",
       "      <td>704</td>\n",
       "      <td>0</td>\n",
       "      <td>C2208</td>\n",
       "    </tr>\n",
       "    <tr>\n",
       "      <th>3</th>\n",
       "      <td>773b7155-d33b-4437-a961-8ff6577bf203</td>\n",
       "      <td>2023-01-15 00:03:01</td>\n",
       "      <td>4963405922548475459</td>\n",
       "      <td>Diners Club / Carte Blanche</td>\n",
       "      <td>rodriguez.com</td>\n",
       "      <td>45</td>\n",
       "      <td>6045</td>\n",
       "      <td>1</td>\n",
       "      <td>C5459</td>\n",
       "    </tr>\n",
       "    <tr>\n",
       "      <th>4</th>\n",
       "      <td>ac5b8170-be23-494f-aa58-7fe6ad5f2cc0</td>\n",
       "      <td>2023-01-15 00:03:24</td>\n",
       "      <td>3507208774395447</td>\n",
       "      <td>VISA 13 digit</td>\n",
       "      <td>jefferson.com</td>\n",
       "      <td>L</td>\n",
       "      <td>330</td>\n",
       "      <td>0</td>\n",
       "      <td>C5447</td>\n",
       "    </tr>\n",
       "  </tbody>\n",
       "</table>\n",
       "</div>"
      ],
      "text/plain": [
       "                          TransactionID        TransactionDT  \\\n",
       "0  4e481ebc-c0a3-4682-92bb-852a51707c3f  2023-01-15 00:00:20   \n",
       "1  6023c48d-1a0b-4639-b2b9-9dd84e5624a3  2023-01-15 00:00:44   \n",
       "2  9b81b063-6d23-485e-9c32-91303a0f96e0  2023-01-15 00:02:18   \n",
       "3  773b7155-d33b-4437-a961-8ff6577bf203  2023-01-15 00:03:01   \n",
       "4  ac5b8170-be23-494f-aa58-7fe6ad5f2cc0  2023-01-15 00:03:24   \n",
       "\n",
       "               card_no                    card_type   email_domain ProductCD  \\\n",
       "0     3572146632952415                 JCB 16 digit    hotmail.com        45   \n",
       "1     5345027347086361                      Maestro     mathis.com         Y   \n",
       "2      213121287312208                VISA 16 digit      yahoo.com         L   \n",
       "3  4963405922548475459  Diners Club / Carte Blanche  rodriguez.com        45   \n",
       "4     3507208774395447                VISA 13 digit  jefferson.com         L   \n",
       "\n",
       "   TransactionAmt  isFraud card_no4  \n",
       "0             669        1    C2415  \n",
       "1            2924        0    C6361  \n",
       "2             704        0    C2208  \n",
       "3            6045        1    C5459  \n",
       "4             330        0    C5447  "
      ]
     },
     "execution_count": 17,
     "metadata": {},
     "output_type": "execute_result"
    }
   ],
   "source": [
    "transaction.head()"
   ]
  },
  {
   "cell_type": "code",
   "execution_count": 18,
   "id": "82199081-88b6-4fa4-bac4-0774f7976c0d",
   "metadata": {
    "tags": []
   },
   "outputs": [
    {
     "data": {
      "text/plain": [
       "card_type\n",
       "American Express               11304\n",
       "Diners Club / Carte Blanche    12112\n",
       "Discover                       11798\n",
       "JCB 15 digit                   11443\n",
       "JCB 16 digit                   23584\n",
       "Maestro                        11888\n",
       "Mastercard                     11961\n",
       "VISA 13 digit                  11606\n",
       "VISA 16 digit                  23288\n",
       "VISA 19 digit                  11483\n",
       "dtype: int64"
      ]
     },
     "execution_count": 18,
     "metadata": {},
     "output_type": "execute_result"
    }
   ],
   "source": [
    "transaction.groupby([\"card_type\"]).size()"
   ]
  },
  {
   "cell_type": "code",
   "execution_count": 19,
   "id": "d887d706-545b-41d2-844a-457ce9363467",
   "metadata": {
    "tags": []
   },
   "outputs": [],
   "source": [
    "import pandas as pd\n",
    "\n",
    "def calculate_fraud_percentage(df, categorical_column, fraud_column='fraud'):\n",
    "    grouped = df.groupby(categorical_column)[fraud_column].agg(\n",
    "        total_count='count',\n",
    "        fraud_count=lambda x: x.sum()\n",
    "    )\n",
    "\n",
    "    grouped['fraud_percentage'] = (grouped['fraud_count'] / grouped['total_count']) * 100\n",
    "\n",
    "    return grouped.sort_values(by='fraud_percentage', ascending=False)"
   ]
  },
  {
   "cell_type": "code",
   "execution_count": 20,
   "id": "09cb5b48-30c8-45ee-b4ee-1c9f8508a4db",
   "metadata": {
    "tags": []
   },
   "outputs": [
    {
     "name": "stdout",
     "output_type": "stream",
     "text": [
      "Fraud Percentages by Category:\n",
      "                              total_count  fraud_count  fraud_percentage\n",
      "card_type                                                              \n",
      "Diners Club / Carte Blanche        12112         2223         18.353699\n",
      "JCB 15 digit                       11443         2079         18.168313\n",
      "Maestro                            11888         2142         18.018170\n",
      "American Express                   11304         1529         13.526185\n",
      "Mastercard                         11961         1616         13.510576\n",
      "VISA 19 digit                      11483         1501         13.071497\n",
      "JCB 16 digit                       23584         3056         12.957938\n",
      "VISA 13 digit                      11606         1489         12.829571\n",
      "VISA 16 digit                      23288         2986         12.822054\n",
      "Discover                           11798         1448         12.273267\n",
      "Fraud Percentages by Category:\n",
      "                        total_count  fraud_count  fraud_percentage\n",
      "email_domain                                                     \n",
      "sanchez-fernandez.biz            1            1             100.0\n",
      "bell-bowman.com                  1            1             100.0\n",
      "flores-maxwell.com               1            1             100.0\n",
      "flores-mcclure.info              1            1             100.0\n",
      "koch-greene.com                  1            1             100.0\n",
      "...                            ...          ...               ...\n",
      "harrell.biz                      1            0               0.0\n",
      "harrell-young.com                1            0               0.0\n",
      "harrell-wilkins.org              1            0               0.0\n",
      "harrell-santiago.com             1            0               0.0\n",
      "zuniga.net                       2            0               0.0\n",
      "\n",
      "[27218 rows x 3 columns]\n",
      "Fraud Percentages by Category:\n",
      "            total_count  fraud_count  fraud_percentage\n",
      "ProductCD                                            \n",
      "45               27940        13539         48.457409\n",
      "T                28172         1677          5.952719\n",
      "L                27840         1626          5.840517\n",
      "Y                28398         1630          5.739841\n",
      "AB               28117         1597          5.679838\n",
      "Fraud Percentages by Category:\n",
      "           total_count  fraud_count  fraud_percentage\n",
      "card_no4                                            \n",
      "C4424               1            1             100.0\n",
      "C3643               2            2             100.0\n",
      "C2378               1            1             100.0\n",
      "C7815               1            1             100.0\n",
      "C7246               1            1             100.0\n",
      "...               ...          ...               ...\n",
      "C5441               3            0               0.0\n",
      "C3551               8            0               0.0\n",
      "C7957              12            0               0.0\n",
      "C5436               9            0               0.0\n",
      "C9999               2            0               0.0\n",
      "\n",
      "[9825 rows x 3 columns]\n"
     ]
    }
   ],
   "source": [
    "categorical_columns = ['card_type','email_domain','ProductCD','card_no4']\n",
    "\n",
    "for col in categorical_columns:\n",
    "    fraud_percentages_df = calculate_fraud_percentage(transaction, col,\"isFraud\")\n",
    "    print(\"Fraud Percentages by Category:\\n\", fraud_percentages_df)"
   ]
  },
  {
   "cell_type": "code",
   "execution_count": 26,
   "id": "8328b7d3-1bf0-4147-9707-ed71899c3775",
   "metadata": {
    "tags": []
   },
   "outputs": [
    {
     "name": "stderr",
     "output_type": "stream",
     "text": [
      "/tmp/ipykernel_7798/3513998276.py:5: FutureWarning: Series.dt.weekofyear and Series.dt.week have been deprecated. Please use Series.dt.isocalendar().week instead.\n",
      "  transaction['Week'] = transaction['TransactionDT'].dt.week\n"
     ]
    },
    {
     "data": {
      "image/png": "[encoded data removed]",
      "text/plain": [
       "<Figure size 1200x600 with 1 Axes>"
      ]
     },
     "metadata": {},
     "output_type": "display_data"
    }
   ],
   "source": [
    "# Parse 'TransactionDT' as a datetime\n",
    "transaction['TransactionDT'] = pd.to_datetime(transaction['TransactionDT'])\n",
    "\n",
    "#week \n",
    "transaction['Week'] = transaction['TransactionDT'].dt.week\n",
    "#transaction['day'] = transaction['TransactionDT'].dt.week\n",
    "\n",
    "# percentage of fraud per week\n",
    "fraud_percentage_per_week = transaction.groupby('Week')['isFraud'].mean() * 100\n",
    "\n",
    "# timeseries chart\n",
    "plt.figure(figsize=(12, 6))\n",
    "fraud_percentage_per_week.plot(kind='line', marker='+', color='g')\n",
    "plt.title('Percentage of Fraud per Week')\n",
    "plt.xlabel('Week')\n",
    "plt.ylabel('Percentage of Fraud')\n",
    "plt.grid(True)\n",
    "plt.show()\n"
   ]
  },
  {
   "cell_type": "code",
   "execution_count": 25,
   "id": "e8cc4452-8baf-4c50-87dc-149315addf3f",
   "metadata": {
    "tags": []
   },
   "outputs": [
    {
     "data": {
      "image/png": "[encoded data removed]",
      "text/plain": [
       "<Figure size 1200x600 with 1 Axes>"
      ]
     },
     "metadata": {},
     "output_type": "display_data"
    }
   ],
   "source": [
    "# Extract day information\n",
    "transaction['day'] = transaction['TransactionDT'].dt.date\n",
    "\n",
    "# percentage of fraud per week\n",
    "fraud_percentage_per_week = transaction.groupby('day')['isFraud'].mean() * 100\n",
    "\n",
    "# timeseries chart\n",
    "plt.figure(figsize=(12, 6))\n",
    "fraud_percentage_per_week.plot(kind='line', marker='+', color='g')\n",
    "plt.title('Percentage of Fraud per Week')\n",
    "plt.xlabel('Week')\n",
    "plt.ylabel('Percentage of Fraud')\n",
    "plt.grid(True)\n",
    "plt.show()"
   ]
  },
  {
   "cell_type": "code",
   "execution_count": 29,
   "id": "235fcf99-2f25-4e5a-b74a-e468ef7936c6",
   "metadata": {
    "tags": []
   },
   "outputs": [],
   "source": [
    "transaction['hour'] = transaction['TransactionDT'].dt.hour"
   ]
  },
  {
   "cell_type": "code",
   "execution_count": 30,
   "id": "c8925f59-e733-4171-9a78-d5d2b07d84a6",
   "metadata": {
    "tags": []
   },
   "outputs": [
    {
     "data": {
      "text/html": [
       "<div>\n",
       "<style scoped>\n",
       "    .dataframe tbody tr th:only-of-type {\n",
       "        vertical-align: middle;\n",
       "    }\n",
       "\n",
       "    .dataframe tbody tr th {\n",
       "        vertical-align: top;\n",
       "    }\n",
       "\n",
       "    .dataframe thead th {\n",
       "        text-align: right;\n",
       "    }\n",
       "</style>\n",
       "<table border=\"1\" class=\"dataframe\">\n",
       "  <thead>\n",
       "    <tr style=\"text-align: right;\">\n",
       "      <th></th>\n",
       "      <th>TransactionID</th>\n",
       "      <th>TransactionDT</th>\n",
       "      <th>card_no</th>\n",
       "      <th>card_type</th>\n",
       "      <th>email_domain</th>\n",
       "      <th>ProductCD</th>\n",
       "      <th>TransactionAmt</th>\n",
       "      <th>isFraud</th>\n",
       "      <th>card_no4</th>\n",
       "      <th>Week</th>\n",
       "      <th>day</th>\n",
       "      <th>hour</th>\n",
       "    </tr>\n",
       "  </thead>\n",
       "  <tbody>\n",
       "    <tr>\n",
       "      <th>0</th>\n",
       "      <td>4e481ebc-c0a3-4682-92bb-852a51707c3f</td>\n",
       "      <td>2023-01-15 00:00:20</td>\n",
       "      <td>3572146632952415</td>\n",
       "      <td>JCB 16 digit</td>\n",
       "      <td>hotmail.com</td>\n",
       "      <td>45</td>\n",
       "      <td>669</td>\n",
       "      <td>1</td>\n",
       "      <td>C2415</td>\n",
       "      <td>2</td>\n",
       "      <td>2023-01-15</td>\n",
       "      <td>0</td>\n",
       "    </tr>\n",
       "    <tr>\n",
       "      <th>1</th>\n",
       "      <td>6023c48d-1a0b-4639-b2b9-9dd84e5624a3</td>\n",
       "      <td>2023-01-15 00:00:44</td>\n",
       "      <td>5345027347086361</td>\n",
       "      <td>Maestro</td>\n",
       "      <td>mathis.com</td>\n",
       "      <td>Y</td>\n",
       "      <td>2924</td>\n",
       "      <td>0</td>\n",
       "      <td>C6361</td>\n",
       "      <td>2</td>\n",
       "      <td>2023-01-15</td>\n",
       "      <td>0</td>\n",
       "    </tr>\n",
       "    <tr>\n",
       "      <th>2</th>\n",
       "      <td>9b81b063-6d23-485e-9c32-91303a0f96e0</td>\n",
       "      <td>2023-01-15 00:02:18</td>\n",
       "      <td>213121287312208</td>\n",
       "      <td>VISA 16 digit</td>\n",
       "      <td>yahoo.com</td>\n",
       "      <td>L</td>\n",
       "      <td>704</td>\n",
       "      <td>0</td>\n",
       "      <td>C2208</td>\n",
       "      <td>2</td>\n",
       "      <td>2023-01-15</td>\n",
       "      <td>0</td>\n",
       "    </tr>\n",
       "    <tr>\n",
       "      <th>3</th>\n",
       "      <td>773b7155-d33b-4437-a961-8ff6577bf203</td>\n",
       "      <td>2023-01-15 00:03:01</td>\n",
       "      <td>4963405922548475459</td>\n",
       "      <td>Diners Club / Carte Blanche</td>\n",
       "      <td>rodriguez.com</td>\n",
       "      <td>45</td>\n",
       "      <td>6045</td>\n",
       "      <td>1</td>\n",
       "      <td>C5459</td>\n",
       "      <td>2</td>\n",
       "      <td>2023-01-15</td>\n",
       "      <td>0</td>\n",
       "    </tr>\n",
       "    <tr>\n",
       "      <th>4</th>\n",
       "      <td>ac5b8170-be23-494f-aa58-7fe6ad5f2cc0</td>\n",
       "      <td>2023-01-15 00:03:24</td>\n",
       "      <td>3507208774395447</td>\n",
       "      <td>VISA 13 digit</td>\n",
       "      <td>jefferson.com</td>\n",
       "      <td>L</td>\n",
       "      <td>330</td>\n",
       "      <td>0</td>\n",
       "      <td>C5447</td>\n",
       "      <td>2</td>\n",
       "      <td>2023-01-15</td>\n",
       "      <td>0</td>\n",
       "    </tr>\n",
       "  </tbody>\n",
       "</table>\n",
       "</div>"
      ],
      "text/plain": [
       "                          TransactionID       TransactionDT  \\\n",
       "0  4e481ebc-c0a3-4682-92bb-852a51707c3f 2023-01-15 00:00:20   \n",
       "1  6023c48d-1a0b-4639-b2b9-9dd84e5624a3 2023-01-15 00:00:44   \n",
       "2  9b81b063-6d23-485e-9c32-91303a0f96e0 2023-01-15 00:02:18   \n",
       "3  773b7155-d33b-4437-a961-8ff6577bf203 2023-01-15 00:03:01   \n",
       "4  ac5b8170-be23-494f-aa58-7fe6ad5f2cc0 2023-01-15 00:03:24   \n",
       "\n",
       "               card_no                    card_type   email_domain ProductCD  \\\n",
       "0     3572146632952415                 JCB 16 digit    hotmail.com        45   \n",
       "1     5345027347086361                      Maestro     mathis.com         Y   \n",
       "2      213121287312208                VISA 16 digit      yahoo.com         L   \n",
       "3  4963405922548475459  Diners Club / Carte Blanche  rodriguez.com        45   \n",
       "4     3507208774395447                VISA 13 digit  jefferson.com         L   \n",
       "\n",
       "   TransactionAmt  isFraud card_no4  Week         day  hour  \n",
       "0             669        1    C2415     2  2023-01-15     0  \n",
       "1            2924        0    C6361     2  2023-01-15     0  \n",
       "2             704        0    C2208     2  2023-01-15     0  \n",
       "3            6045        1    C5459     2  2023-01-15     0  \n",
       "4             330        0    C5447     2  2023-01-15     0  "
      ]
     },
     "execution_count": 30,
     "metadata": {},
     "output_type": "execute_result"
    }
   ],
   "source": [
    "transaction.head()"
   ]
  },
  {
   "cell_type": "code",
   "execution_count": 32,
   "id": "63ccc055-0c0c-4350-a8ce-aff6fd737e7d",
   "metadata": {
    "tags": []
   },
   "outputs": [
    {
     "name": "stdout",
     "output_type": "stream",
     "text": [
      "Fraud Percentages by Category:\n",
      "       total_count  fraud_count  fraud_percentage\n",
      "hour                                            \n",
      "0            5881          841         14.300289\n",
      "1            5623          780         13.871599\n",
      "2            6000          880         14.666667\n",
      "3            5776          871         15.079640\n",
      "4            5888          830         14.096467\n",
      "5            5919          910         15.374219\n",
      "6            5838          811         13.891744\n",
      "7            5726          850         14.844569\n",
      "8            5791          834         14.401658\n",
      "9            5849          804         13.745939\n",
      "10           5785          816         14.105445\n",
      "11           5822          879         15.097905\n",
      "12           5769          814         14.109898\n",
      "13           5967          827         13.859561\n",
      "14           5878          799         13.593059\n",
      "15           5950          807         13.563025\n",
      "16           5752          769         13.369263\n",
      "17           5912          850         14.377537\n",
      "18           5975          864         14.460251\n",
      "19           5929          892         15.044696\n",
      "20           5950          841         14.134454\n",
      "21           5864          841         14.341746\n",
      "22           5858          851         14.527142\n",
      "23           5765          808         14.015611\n"
     ]
    }
   ],
   "source": [
    "categorical_columns = ['hour']\n",
    "\n",
    "for col in categorical_columns:\n",
    "    fraud_percentages_df = calculate_fraud_percentage(transaction, col,\"isFraud\")\n",
    "    print(\"Fraud Percentages by Category:\\n\", fraud_percentages_df.sort_values(\"hour\",ascending=[True]))"
   ]
  },
  {
   "cell_type": "code",
   "execution_count": 33,
   "id": "07b5bf5b-4580-40d2-a3e8-3cf69839b33d",
   "metadata": {
    "tags": []
   },
   "outputs": [],
   "source": [
    "df_all = pd.merge(transaction,identity,how=\"left\",on=\"TransactionID\")"
   ]
  },
  {
   "cell_type": "code",
   "execution_count": 34,
   "id": "f4baecb1-a267-457b-ac6d-3c071619627f",
   "metadata": {
    "tags": []
   },
   "outputs": [
    {
     "data": {
      "text/plain": [
       "(140467, 15)"
      ]
     },
     "execution_count": 34,
     "metadata": {},
     "output_type": "execute_result"
    }
   ],
   "source": [
    "df_all.shape"
   ]
  },
  {
   "cell_type": "code",
   "execution_count": 35,
   "id": "bf7ac99f-4932-4d14-b7b9-8f1569e31000",
   "metadata": {
    "tags": []
   },
   "outputs": [
    {
     "data": {
      "text/html": [
       "<div>\n",
       "<style scoped>\n",
       "    .dataframe tbody tr th:only-of-type {\n",
       "        vertical-align: middle;\n",
       "    }\n",
       "\n",
       "    .dataframe tbody tr th {\n",
       "        vertical-align: top;\n",
       "    }\n",
       "\n",
       "    .dataframe thead th {\n",
       "        text-align: right;\n",
       "    }\n",
       "</style>\n",
       "<table border=\"1\" class=\"dataframe\">\n",
       "  <thead>\n",
       "    <tr style=\"text-align: right;\">\n",
       "      <th></th>\n",
       "      <th>TransactionID</th>\n",
       "      <th>TransactionDT</th>\n",
       "      <th>card_no</th>\n",
       "      <th>card_type</th>\n",
       "      <th>email_domain</th>\n",
       "      <th>ProductCD</th>\n",
       "      <th>TransactionAmt</th>\n",
       "      <th>isFraud</th>\n",
       "      <th>card_no4</th>\n",
       "      <th>Week</th>\n",
       "      <th>day</th>\n",
       "      <th>hour</th>\n",
       "      <th>IpAddress</th>\n",
       "      <th>PhoneNo</th>\n",
       "      <th>DeviceID</th>\n",
       "    </tr>\n",
       "  </thead>\n",
       "  <tbody>\n",
       "    <tr>\n",
       "      <th>0</th>\n",
       "      <td>4e481ebc-c0a3-4682-92bb-852a51707c3f</td>\n",
       "      <td>2023-01-15 00:00:20</td>\n",
       "      <td>3572146632952415</td>\n",
       "      <td>JCB 16 digit</td>\n",
       "      <td>hotmail.com</td>\n",
       "      <td>45</td>\n",
       "      <td>669</td>\n",
       "      <td>1</td>\n",
       "      <td>C2415</td>\n",
       "      <td>2</td>\n",
       "      <td>2023-01-15</td>\n",
       "      <td>0</td>\n",
       "      <td>139.156.81.68</td>\n",
       "      <td>(701)110-8664</td>\n",
       "      <td>6812241985313</td>\n",
       "    </tr>\n",
       "    <tr>\n",
       "      <th>1</th>\n",
       "      <td>6023c48d-1a0b-4639-b2b9-9dd84e5624a3</td>\n",
       "      <td>2023-01-15 00:00:44</td>\n",
       "      <td>5345027347086361</td>\n",
       "      <td>Maestro</td>\n",
       "      <td>mathis.com</td>\n",
       "      <td>Y</td>\n",
       "      <td>2924</td>\n",
       "      <td>0</td>\n",
       "      <td>C6361</td>\n",
       "      <td>2</td>\n",
       "      <td>2023-01-15</td>\n",
       "      <td>0</td>\n",
       "      <td>188.167.107.154</td>\n",
       "      <td>651-708-4634x5968</td>\n",
       "      <td>9618531295327</td>\n",
       "    </tr>\n",
       "    <tr>\n",
       "      <th>2</th>\n",
       "      <td>9b81b063-6d23-485e-9c32-91303a0f96e0</td>\n",
       "      <td>2023-01-15 00:02:18</td>\n",
       "      <td>213121287312208</td>\n",
       "      <td>VISA 16 digit</td>\n",
       "      <td>yahoo.com</td>\n",
       "      <td>L</td>\n",
       "      <td>704</td>\n",
       "      <td>0</td>\n",
       "      <td>C2208</td>\n",
       "      <td>2</td>\n",
       "      <td>2023-01-15</td>\n",
       "      <td>0</td>\n",
       "      <td>72.42.62.66</td>\n",
       "      <td>412-762-7325</td>\n",
       "      <td>6139189388260</td>\n",
       "    </tr>\n",
       "    <tr>\n",
       "      <th>3</th>\n",
       "      <td>773b7155-d33b-4437-a961-8ff6577bf203</td>\n",
       "      <td>2023-01-15 00:03:01</td>\n",
       "      <td>4963405922548475459</td>\n",
       "      <td>Diners Club / Carte Blanche</td>\n",
       "      <td>rodriguez.com</td>\n",
       "      <td>45</td>\n",
       "      <td>6045</td>\n",
       "      <td>1</td>\n",
       "      <td>C5459</td>\n",
       "      <td>2</td>\n",
       "      <td>2023-01-15</td>\n",
       "      <td>0</td>\n",
       "      <td>215.32.234.191</td>\n",
       "      <td>+1-389-448-2305x492</td>\n",
       "      <td>5790632409351</td>\n",
       "    </tr>\n",
       "    <tr>\n",
       "      <th>4</th>\n",
       "      <td>ac5b8170-be23-494f-aa58-7fe6ad5f2cc0</td>\n",
       "      <td>2023-01-15 00:03:24</td>\n",
       "      <td>3507208774395447</td>\n",
       "      <td>VISA 13 digit</td>\n",
       "      <td>jefferson.com</td>\n",
       "      <td>L</td>\n",
       "      <td>330</td>\n",
       "      <td>0</td>\n",
       "      <td>C5447</td>\n",
       "      <td>2</td>\n",
       "      <td>2023-01-15</td>\n",
       "      <td>0</td>\n",
       "      <td>107.153.65.180</td>\n",
       "      <td>+1-028-769-3676x5605</td>\n",
       "      <td>4279379318023</td>\n",
       "    </tr>\n",
       "  </tbody>\n",
       "</table>\n",
       "</div>"
      ],
      "text/plain": [
       "                          TransactionID       TransactionDT  \\\n",
       "0  4e481ebc-c0a3-4682-92bb-852a51707c3f 2023-01-15 00:00:20   \n",
       "1  6023c48d-1a0b-4639-b2b9-9dd84e5624a3 2023-01-15 00:00:44   \n",
       "2  9b81b063-6d23-485e-9c32-91303a0f96e0 2023-01-15 00:02:18   \n",
       "3  773b7155-d33b-4437-a961-8ff6577bf203 2023-01-15 00:03:01   \n",
       "4  ac5b8170-be23-494f-aa58-7fe6ad5f2cc0 2023-01-15 00:03:24   \n",
       "\n",
       "               card_no                    card_type   email_domain ProductCD  \\\n",
       "0     3572146632952415                 JCB 16 digit    hotmail.com        45   \n",
       "1     5345027347086361                      Maestro     mathis.com         Y   \n",
       "2      213121287312208                VISA 16 digit      yahoo.com         L   \n",
       "3  4963405922548475459  Diners Club / Carte Blanche  rodriguez.com        45   \n",
       "4     3507208774395447                VISA 13 digit  jefferson.com         L   \n",
       "\n",
       "   TransactionAmt  isFraud card_no4  Week         day  hour        IpAddress  \\\n",
       "0             669        1    C2415     2  2023-01-15     0    139.156.81.68   \n",
       "1            2924        0    C6361     2  2023-01-15     0  188.167.107.154   \n",
       "2             704        0    C2208     2  2023-01-15     0      72.42.62.66   \n",
       "3            6045        1    C5459     2  2023-01-15     0   215.32.234.191   \n",
       "4             330        0    C5447     2  2023-01-15     0   107.153.65.180   \n",
       "\n",
       "                PhoneNo       DeviceID  \n",
       "0         (701)110-8664  6812241985313  \n",
       "1     651-708-4634x5968  9618531295327  \n",
       "2          412-762-7325  6139189388260  \n",
       "3   +1-389-448-2305x492  5790632409351  \n",
       "4  +1-028-769-3676x5605  4279379318023  "
      ]
     },
     "execution_count": 35,
     "metadata": {},
     "output_type": "execute_result"
    }
   ],
   "source": [
    "df_all.head()"
   ]
  },
  {
   "cell_type": "code",
   "execution_count": 43,
   "id": "11670c30-cf2e-4370-860a-e0e28de96c3a",
   "metadata": {
    "tags": []
   },
   "outputs": [],
   "source": [
    "df_all[\"ipLastPart\"] = df_all[\"IpAddress\"].apply(lambda x: x.split('.')[-1])\n",
    "df_all[\"device_no4\"] = df_all[\"DeviceID\"].apply(lambda x: 'D' + str(x)[-4:])"
   ]
  },
  {
   "cell_type": "code",
   "execution_count": 44,
   "id": "cf10e6fe-7f34-482c-9db5-6c3cb0fb1d86",
   "metadata": {
    "tags": []
   },
   "outputs": [
    {
     "data": {
      "text/html": [
       "<div>\n",
       "<style scoped>\n",
       "    .dataframe tbody tr th:only-of-type {\n",
       "        vertical-align: middle;\n",
       "    }\n",
       "\n",
       "    .dataframe tbody tr th {\n",
       "        vertical-align: top;\n",
       "    }\n",
       "\n",
       "    .dataframe thead th {\n",
       "        text-align: right;\n",
       "    }\n",
       "</style>\n",
       "<table border=\"1\" class=\"dataframe\">\n",
       "  <thead>\n",
       "    <tr style=\"text-align: right;\">\n",
       "      <th></th>\n",
       "      <th>TransactionID</th>\n",
       "      <th>TransactionDT</th>\n",
       "      <th>card_no</th>\n",
       "      <th>card_type</th>\n",
       "      <th>email_domain</th>\n",
       "      <th>ProductCD</th>\n",
       "      <th>TransactionAmt</th>\n",
       "      <th>isFraud</th>\n",
       "      <th>card_no4</th>\n",
       "      <th>Week</th>\n",
       "      <th>day</th>\n",
       "      <th>hour</th>\n",
       "      <th>IpAddress</th>\n",
       "      <th>PhoneNo</th>\n",
       "      <th>DeviceID</th>\n",
       "      <th>ipLastPart</th>\n",
       "      <th>device_no4</th>\n",
       "    </tr>\n",
       "  </thead>\n",
       "  <tbody>\n",
       "    <tr>\n",
       "      <th>0</th>\n",
       "      <td>4e481ebc-c0a3-4682-92bb-852a51707c3f</td>\n",
       "      <td>2023-01-15 00:00:20</td>\n",
       "      <td>3572146632952415</td>\n",
       "      <td>JCB 16 digit</td>\n",
       "      <td>hotmail.com</td>\n",
       "      <td>45</td>\n",
       "      <td>669</td>\n",
       "      <td>1</td>\n",
       "      <td>C2415</td>\n",
       "      <td>2</td>\n",
       "      <td>2023-01-15</td>\n",
       "      <td>0</td>\n",
       "      <td>139.156.81.68</td>\n",
       "      <td>(701)110-8664</td>\n",
       "      <td>6812241985313</td>\n",
       "      <td>68</td>\n",
       "      <td>D5313</td>\n",
       "    </tr>\n",
       "    <tr>\n",
       "      <th>1</th>\n",
       "      <td>6023c48d-1a0b-4639-b2b9-9dd84e5624a3</td>\n",
       "      <td>2023-01-15 00:00:44</td>\n",
       "      <td>5345027347086361</td>\n",
       "      <td>Maestro</td>\n",
       "      <td>mathis.com</td>\n",
       "      <td>Y</td>\n",
       "      <td>2924</td>\n",
       "      <td>0</td>\n",
       "      <td>C6361</td>\n",
       "      <td>2</td>\n",
       "      <td>2023-01-15</td>\n",
       "      <td>0</td>\n",
       "      <td>188.167.107.154</td>\n",
       "      <td>651-708-4634x5968</td>\n",
       "      <td>9618531295327</td>\n",
       "      <td>154</td>\n",
       "      <td>D5327</td>\n",
       "    </tr>\n",
       "    <tr>\n",
       "      <th>2</th>\n",
       "      <td>9b81b063-6d23-485e-9c32-91303a0f96e0</td>\n",
       "      <td>2023-01-15 00:02:18</td>\n",
       "      <td>213121287312208</td>\n",
       "      <td>VISA 16 digit</td>\n",
       "      <td>yahoo.com</td>\n",
       "      <td>L</td>\n",
       "      <td>704</td>\n",
       "      <td>0</td>\n",
       "      <td>C2208</td>\n",
       "      <td>2</td>\n",
       "      <td>2023-01-15</td>\n",
       "      <td>0</td>\n",
       "      <td>72.42.62.66</td>\n",
       "      <td>412-762-7325</td>\n",
       "      <td>6139189388260</td>\n",
       "      <td>66</td>\n",
       "      <td>D8260</td>\n",
       "    </tr>\n",
       "    <tr>\n",
       "      <th>3</th>\n",
       "      <td>773b7155-d33b-4437-a961-8ff6577bf203</td>\n",
       "      <td>2023-01-15 00:03:01</td>\n",
       "      <td>4963405922548475459</td>\n",
       "      <td>Diners Club / Carte Blanche</td>\n",
       "      <td>rodriguez.com</td>\n",
       "      <td>45</td>\n",
       "      <td>6045</td>\n",
       "      <td>1</td>\n",
       "      <td>C5459</td>\n",
       "      <td>2</td>\n",
       "      <td>2023-01-15</td>\n",
       "      <td>0</td>\n",
       "      <td>215.32.234.191</td>\n",
       "      <td>+1-389-448-2305x492</td>\n",
       "      <td>5790632409351</td>\n",
       "      <td>191</td>\n",
       "      <td>D9351</td>\n",
       "    </tr>\n",
       "    <tr>\n",
       "      <th>4</th>\n",
       "      <td>ac5b8170-be23-494f-aa58-7fe6ad5f2cc0</td>\n",
       "      <td>2023-01-15 00:03:24</td>\n",
       "      <td>3507208774395447</td>\n",
       "      <td>VISA 13 digit</td>\n",
       "      <td>jefferson.com</td>\n",
       "      <td>L</td>\n",
       "      <td>330</td>\n",
       "      <td>0</td>\n",
       "      <td>C5447</td>\n",
       "      <td>2</td>\n",
       "      <td>2023-01-15</td>\n",
       "      <td>0</td>\n",
       "      <td>107.153.65.180</td>\n",
       "      <td>+1-028-769-3676x5605</td>\n",
       "      <td>4279379318023</td>\n",
       "      <td>180</td>\n",
       "      <td>D8023</td>\n",
       "    </tr>\n",
       "  </tbody>\n",
       "</table>\n",
       "</div>"
      ],
      "text/plain": [
       "                          TransactionID       TransactionDT  \\\n",
       "0  4e481ebc-c0a3-4682-92bb-852a51707c3f 2023-01-15 00:00:20   \n",
       "1  6023c48d-1a0b-4639-b2b9-9dd84e5624a3 2023-01-15 00:00:44   \n",
       "2  9b81b063-6d23-485e-9c32-91303a0f96e0 2023-01-15 00:02:18   \n",
       "3  773b7155-d33b-4437-a961-8ff6577bf203 2023-01-15 00:03:01   \n",
       "4  ac5b8170-be23-494f-aa58-7fe6ad5f2cc0 2023-01-15 00:03:24   \n",
       "\n",
       "               card_no                    card_type   email_domain ProductCD  \\\n",
       "0     3572146632952415                 JCB 16 digit    hotmail.com        45   \n",
       "1     5345027347086361                      Maestro     mathis.com         Y   \n",
       "2      213121287312208                VISA 16 digit      yahoo.com         L   \n",
       "3  4963405922548475459  Diners Club / Carte Blanche  rodriguez.com        45   \n",
       "4     3507208774395447                VISA 13 digit  jefferson.com         L   \n",
       "\n",
       "   TransactionAmt  isFraud card_no4  Week         day  hour        IpAddress  \\\n",
       "0             669        1    C2415     2  2023-01-15     0    139.156.81.68   \n",
       "1            2924        0    C6361     2  2023-01-15     0  188.167.107.154   \n",
       "2             704        0    C2208     2  2023-01-15     0      72.42.62.66   \n",
       "3            6045        1    C5459     2  2023-01-15     0   215.32.234.191   \n",
       "4             330        0    C5447     2  2023-01-15     0   107.153.65.180   \n",
       "\n",
       "                PhoneNo       DeviceID ipLastPart device_no4  \n",
       "0         (701)110-8664  6812241985313         68      D5313  \n",
       "1     651-708-4634x5968  9618531295327        154      D5327  \n",
       "2          412-762-7325  6139189388260         66      D8260  \n",
       "3   +1-389-448-2305x492  5790632409351        191      D9351  \n",
       "4  +1-028-769-3676x5605  4279379318023        180      D8023  "
      ]
     },
     "execution_count": 44,
     "metadata": {},
     "output_type": "execute_result"
    }
   ],
   "source": [
    "df_all.head()"
   ]
  },
  {
   "cell_type": "code",
   "execution_count": null,
   "id": "741a855c-ad20-4001-98ef-9d3a1014e5fc",
   "metadata": {},
   "outputs": [],
   "source": []
  }
 ],
 "metadata": {
  "kernelspec": {
   "display_name": "conda_pytorch_p310",
   "language": "python",
   "name": "conda_pytorch_p310"
  },
  "language_info": {
   "codemirror_mode": {
    "name": "ipython",
    "version": 3
   },
   "file_extension": ".py",
   "mimetype": "text/x-python",
   "name": "python",
   "nbconvert_exporter": "python",
   "pygments_lexer": "ipython3",
   "version": "3.10.12"
  }
 },
 "nbformat": 4,
 "nbformat_minor": 5
}
