{
 "cells": [
  {
   "cell_type": "code",
   "execution_count": null,
   "id": "29adf64f-21c2-4c1a-9a2d-2a233c327ee6",
   "metadata": {},
   "outputs": [],
   "source": [
    "%%writefile fd_preprocessing.py\n",
    "\n",
    "## To be continued :)"
   ]
  }
 ],
 "metadata": {
  "kernelspec": {
   "display_name": "conda_python3",
   "language": "python",
   "name": "conda_python3"
  },
  "language_info": {
   "codemirror_mode": {
    "name": "ipython",
    "version": 3
   },
   "file_extension": ".py",
   "mimetype": "text/x-python",
   "name": "python",
   "nbconvert_exporter": "python",
   "pygments_lexer": "ipython3",
   "version": "3.10.12"
  }
 },
 "nbformat": 4,
 "nbformat_minor": 5
}
