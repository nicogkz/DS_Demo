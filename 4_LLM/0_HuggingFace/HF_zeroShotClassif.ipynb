{
 "cells": [
  {
   "cell_type": "code",
   "execution_count": 2,
   "metadata": {},
   "outputs": [
    {
     "name": "stderr",
     "output_type": "stream",
     "text": [
      "(…)-mnli/resolve/main/tokenizer_config.json: 100%|██████████| 26.0/26.0 [00:00<00:00, 26.6kB/s]\n",
      "(…)bart-large-mnli/resolve/main/config.json: 100%|██████████| 1.15k/1.15k [00:00<00:00, 8.74MB/s]\n",
      "(…)/bart-large-mnli/resolve/main/vocab.json: 100%|██████████| 899k/899k [00:00<00:00, 2.68MB/s]\n",
      "(…)/bart-large-mnli/resolve/main/merges.txt: 100%|██████████| 456k/456k [00:00<00:00, 5.52MB/s]\n",
      "(…)t-large-mnli/resolve/main/tokenizer.json: 100%|██████████| 1.36M/1.36M [00:00<00:00, 3.32MB/s]\n",
      "model.safetensors: 100%|██████████| 1.63G/1.63G [00:19<00:00, 84.9MB/s]\n"
     ]
    }
   ],
   "source": [
    "from transformers import AutoTokenizer, AutoModelForSequenceClassification\n",
    "tokenizer = AutoTokenizer.from_pretrained(\"facebook/bart-large-mnli\")\n",
    "classifier = pipeline(\"zero-shot-classification\", model=\"facebook/bart-large-mnli\")"
   ]
  },
  {
   "cell_type": "code",
   "execution_count": 5,
   "metadata": {},
   "outputs": [
    {
     "data": {
      "text/plain": [
       "{'sequence': 'Forrest Gump is a 1994 American comedy-drama film directed by Robert Zemeckis and written by Eric Roth. It is based on the 1986 novel of the same name by Winston Groom and stars Tom Hanks, Robin Wright, Gary Sinise, Mykelti Williamson and Sally Field. The film follows several decades in the life of a slow-witted and kindhearted Alabama man named Forrest Gump (Hanks) and his experiences in the 20th-century United States. The film differs substantially from the novel.\\n\\nPrincipal photography took place between August and December 1993, mainly in Georgia, North Carolina and South Carolina. Extensive visual effects were used to incorporate Hanks into archived footage and to develop other scenes. The soundtrack features songs reflecting the different periods seen in the film.\\n\\nForrest Gump was released in the United States on July 6, 1994, and received mostly positive reviews, with critical acclaim for Zemeckis\\'s direction, performances (particularly those of Hanks and Sinise), visual effects, music, and screenplay. The film was an enormous success at the box office; it became the top-grossing film in the United States released that year and earned over US$678.2 million worldwide during its theatrical run, making it the second-highest-grossing film of 1994, behind The Lion King. The soundtrack sold over 12 million copies. Forrest Gump won six Academy Awards: Best Picture, Best Director, Best Actor for Hanks, Best Adapted Screenplay, Best Visual Effects, and Best Film Editing. It received many award nominations, including Golden Globes, British Academy Film Awards and Screen Actors Guild Awards.\\n\\nVarious interpretations have been made of the protagonist and the film\\'s political symbolism. In 2011, the Library of Congress selected the film for preservation in the United States National Film Registry as being \"culturally, historically, or aesthetically significant\".[3][4][5]\\n',\n",
       " 'labels': ['politics',\n",
       "  'actor',\n",
       "  'movie',\n",
       "  'hero',\n",
       "  'entertainment',\n",
       "  'cooking',\n",
       "  'scam'],\n",
       " 'scores': [0.98392254114151,\n",
       "  0.9744733572006226,\n",
       "  0.9736009836196899,\n",
       "  0.8445852398872375,\n",
       "  0.7516570687294006,\n",
       "  0.3779263198375702,\n",
       "  0.1187860295176506]}"
      ]
     },
     "execution_count": 5,
     "metadata": {},
     "output_type": "execute_result"
    }
   ],
   "source": [
    "sequence_to_classify = r\"\"\"Forrest Gump is a 1994 American comedy-drama film directed by Robert Zemeckis and written by Eric Roth. It is based on the 1986 novel of the same name by Winston Groom and stars Tom Hanks, Robin Wright, Gary Sinise, Mykelti Williamson and Sally Field. The film follows several decades in the life of a slow-witted and kindhearted Alabama man named Forrest Gump (Hanks) and his experiences in the 20th-century United States. The film differs substantially from the novel.\n",
    "\n",
    "Principal photography took place between August and December 1993, mainly in Georgia, North Carolina and South Carolina. Extensive visual effects were used to incorporate Hanks into archived footage and to develop other scenes. The soundtrack features songs reflecting the different periods seen in the film.\n",
    "\n",
    "Forrest Gump was released in the United States on July 6, 1994, and received mostly positive reviews, with critical acclaim for Zemeckis's direction, performances (particularly those of Hanks and Sinise), visual effects, music, and screenplay. The film was an enormous success at the box office; it became the top-grossing film in the United States released that year and earned over US$678.2 million worldwide during its theatrical run, making it the second-highest-grossing film of 1994, behind The Lion King. The soundtrack sold over 12 million copies. Forrest Gump won six Academy Awards: Best Picture, Best Director, Best Actor for Hanks, Best Adapted Screenplay, Best Visual Effects, and Best Film Editing. It received many award nominations, including Golden Globes, British Academy Film Awards and Screen Actors Guild Awards.\n",
    "\n",
    "Various interpretations have been made of the protagonist and the film's political symbolism. In 2011, the Library of Congress selected the film for preservation in the United States National Film Registry as being \"culturally, historically, or aesthetically significant\".[3][4][5]\n",
    "\"\"\"\n",
    "candidate_labels = ['movie', 'scam', 'actor','hero','politics','entertainment','cooking']\n",
    "classifier(sequence_to_classify, candidate_labels, multi_label=True)"
   ]
  },
  {
   "cell_type": "code",
   "execution_count": 6,
   "metadata": {},
   "outputs": [
    {
     "data": {
      "text/plain": [
       "{'sequence': 'Forrest Gump is a 1994 American comedy-drama film directed by Robert Zemeckis and written by Eric Roth. It is based on the 1986 novel of the same name by Winston Groom and stars Tom Hanks, Robin Wright, Gary Sinise, Mykelti Williamson and Sally Field. The film follows several decades in the life of a slow-witted and kindhearted Alabama man named Forrest Gump (Hanks) and his experiences in the 20th-century United States. The film differs substantially from the novel.\\n\\nPrincipal photography took place between August and December 1993, mainly in Georgia, North Carolina and South Carolina. Extensive visual effects were used to incorporate Hanks into archived footage and to develop other scenes. The soundtrack features songs reflecting the different periods seen in the film.\\n\\nForrest Gump was released in the United States on July 6, 1994, and received mostly positive reviews, with critical acclaim for Zemeckis\\'s direction, performances (particularly those of Hanks and Sinise), visual effects, music, and screenplay. The film was an enormous success at the box office; it became the top-grossing film in the United States released that year and earned over US$678.2 million worldwide during its theatrical run, making it the second-highest-grossing film of 1994, behind The Lion King. The soundtrack sold over 12 million copies. Forrest Gump won six Academy Awards: Best Picture, Best Director, Best Actor for Hanks, Best Adapted Screenplay, Best Visual Effects, and Best Film Editing. It received many award nominations, including Golden Globes, British Academy Film Awards and Screen Actors Guild Awards.\\n\\nVarious interpretations have been made of the protagonist and the film\\'s political symbolism. In 2011, the Library of Congress selected the film for preservation in the United States National Film Registry as being \"culturally, historically, or aesthetically significant\".[3][4][5]\\n',\n",
       " 'labels': ['actor',\n",
       "  'movie',\n",
       "  'politics',\n",
       "  'hero',\n",
       "  'entertainment',\n",
       "  'cooking',\n",
       "  'scam'],\n",
       " 'scores': [0.3163754343986511,\n",
       "  0.2680387794971466,\n",
       "  0.19291380047798157,\n",
       "  0.10366211086511612,\n",
       "  0.08476569503545761,\n",
       "  0.02168973721563816,\n",
       "  0.0125544099137187]}"
      ]
     },
     "execution_count": 6,
     "metadata": {},
     "output_type": "execute_result"
    }
   ],
   "source": [
    "classifier(sequence_to_classify, candidate_labels, multi_label=False)"
   ]
  },
  {
   "cell_type": "code",
   "execution_count": null,
   "metadata": {},
   "outputs": [],
   "source": []
  }
 ],
 "metadata": {
  "kernelspec": {
   "display_name": "llm-env",
   "language": "python",
   "name": "python3"
  },
  "language_info": {
   "codemirror_mode": {
    "name": "ipython",
    "version": 3
   },
   "file_extension": ".py",
   "mimetype": "text/x-python",
   "name": "python",
   "nbconvert_exporter": "python",
   "pygments_lexer": "ipython3",
   "version": "3.10.13"
  },
  "orig_nbformat": 4
 },
 "nbformat": 4,
 "nbformat_minor": 2
}
