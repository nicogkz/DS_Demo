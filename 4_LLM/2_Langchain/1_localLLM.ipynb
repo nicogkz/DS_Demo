{
 "cells": [
  {
   "cell_type": "code",
   "execution_count": 3,
   "metadata": {},
   "outputs": [
    {
     "name": "stderr",
     "output_type": "stream",
     "text": [
      "(…)-125m/resolve/main/tokenizer_config.json: 100%|██████████| 560/560 [00:00<00:00, 518kB/s]\n",
      "(…)AI/gpt-neo-125m/resolve/main/config.json: 100%|██████████| 1.01k/1.01k [00:00<00:00, 9.89MB/s]\n",
      "(…)rAI/gpt-neo-125m/resolve/main/vocab.json: 100%|██████████| 899k/899k [00:00<00:00, 4.91MB/s]\n",
      "(…)rAI/gpt-neo-125m/resolve/main/merges.txt: 100%|██████████| 456k/456k [00:00<00:00, 5.68MB/s]\n",
      "(…)25m/resolve/main/special_tokens_map.json: 100%|██████████| 357/357 [00:00<00:00, 1.21MB/s]\n"
     ]
    }
   ],
   "source": [
    "import transformers\n",
    "import torch\n",
    "model=\"EleutherAI/gpt-neo-125m\"\n",
    "tokenizer = transformers.AutoTokenizer.from_pretrained(model)"
   ]
  },
  {
   "cell_type": "code",
   "execution_count": 4,
   "metadata": {},
   "outputs": [
    {
     "name": "stderr",
     "output_type": "stream",
     "text": [
      "model.safetensors: 100%|██████████| 526M/526M [00:06<00:00, 87.2MB/s] \n",
      "Xformers is not installed correctly. If you want to use memory_efficient_attention to accelerate training use the following command to install Xformers\n",
      "pip install xformers.\n"
     ]
    }
   ],
   "source": [
    "pipeline = transformers.pipeline(\n",
    "    \"text-generation\",\n",
    "    model = model,\n",
    "    tokenizer = tokenizer,\n",
    "    torch_dtype= torch.bfloat16,\n",
    "    trust_remote_code = True,\n",
    "    max_length=200,\n",
    "    do_sample=True,\n",
    "    top_k = 10,\n",
    "    num_return_sequences = 1,\n",
    "    eos_token_id = tokenizer.eos_token_id,\n",
    "    pad_token_id = tokenizer.eos_token_id\n",
    "\n",
    ")"
   ]
  },
  {
   "cell_type": "code",
   "execution_count": 15,
   "metadata": {},
   "outputs": [],
   "source": [
    "from langchain import HuggingFacePipeline, PromptTemplate, LLMChain\n",
    "from langchain.schema import StrOutputParser\n",
    "\n",
    "llm = HuggingFacePipeline(pipeline=pipeline)\n",
    "\n",
    "prompt = PromptTemplate(\n",
    "    input_variables=[\"content\"],\n",
    "    template = \"Give me 3 recipes of (content).\"\n",
    ")\n",
    "\n",
    "chain = LLMChain(\n",
    "    llm = llm,\n",
    "    prompt = prompt,\n",
    "    output_parser=StrOutputParser()\n",
    ")\n",
    "\n"
   ]
  },
  {
   "cell_type": "code",
   "execution_count": 16,
   "metadata": {},
   "outputs": [
    {
     "name": "stdout",
     "output_type": "stream",
     "text": [
      " I have 3 questions:1. What's in the fridge?2. Is it going to be frozen before you heat it?3. When do they want to be frozen?4. How do they like cooking?5. Have I cooked before my fridge?7. Is there something you would like to cook?8. Have they ever asked for food?9. Can you cook with a knife?10. What do chefs like cook for?11. Do you ever cook for yourself?\n"
     ]
    }
   ],
   "source": [
    "print(chain.run({\"content\":'cheeseburger'}))"
   ]
  },
  {
   "cell_type": "code",
   "execution_count": null,
   "metadata": {},
   "outputs": [],
   "source": []
  }
 ],
 "metadata": {
  "kernelspec": {
   "display_name": "llm-env",
   "language": "python",
   "name": "python3"
  },
  "language_info": {
   "codemirror_mode": {
    "name": "ipython",
    "version": 3
   },
   "file_extension": ".py",
   "mimetype": "text/x-python",
   "name": "python",
   "nbconvert_exporter": "python",
   "pygments_lexer": "ipython3",
   "version": "3.10.13"
  },
  "orig_nbformat": 4
 },
 "nbformat": 4,
 "nbformat_minor": 2
}
